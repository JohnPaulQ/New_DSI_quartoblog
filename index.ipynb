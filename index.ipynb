{
  "cells": [
    {
      "cell_type": "raw",
      "metadata": {},
      "source": [
        "---\n",
        "title: \"DSI title\"\n",
        "image: profile.jpg\n",
        "about:\n",
        "  template: jolla\n",
        "  links:\n",
        "    - icon: github\n",
        "      text: Github\n",
        "      href: https://github.com\n",
        "---"
      ],
      "id": "add5e137"
    },
    {
      "cell_type": "markdown",
      "metadata": {},
      "source": [
        "## About the DSI\n",
        "\n",
        "The Data Science Initiative (DSI) at Chico State is a fledgling grassroots program, initiated in 2015 to develop the Data Science capabilities of our campus and community. By levering expertise across a wealth of disciplines including Statistics, Computer Science, Business, Biology, Nutrition, Mathematics and Political Science, Chico State is well poised to become an educational and workforce training leader in the North State.\n",
        "\n",
        "Our **vision** is to foster a data-empowered society working within a culture of open science.\n",
        "\n",
        "```{css, echo = FALSE}\n",
        ".justify {text-align: justify !important}\n",
        "```\n",
        "\n",
        "\n",
        ":::{.justify}\n",
        "## Our mission is to\n",
        "\n",
        "-   Foster a supportive, inclusive and diverse community for data science researchers, practitioners, learners and enthusiasts.\n",
        "\n",
        "-   Provide high quality data science education to learners from all backgrounds and domains.\n",
        "\n",
        "-   Develop and support interdisciplinary teaching and research opportunities\n",
        "\n",
        "-   Emphasize the use of data in an accountable and transparent manner for the benefit of all persons.\n",
        "\n",
        "-   Furthering the advancement of the algorithms and scientific methods to make decisions and extract insights from data.\n",
        ":::\n",
        "## We work to achieve this mission by\n",
        "\n",
        "-   Building relationships with community partners to build data enabled solutions and provide high impact real world learning experiences for students.\n",
        "\n",
        "-   Provide training on data privacy and security, responsible and ethical research, responsible, transparent and ethical uses of data and algorithms.\n",
        "\n",
        "-   Provide learners with the skills and knowledge, and build and confidence to develop and implement data-driven solutions in an ethically and socially responsible manner.\n",
        "\n",
        "-   Using multiple methods of training including\n",
        "\n",
        "-   Traditional classroom and online curriculum\n",
        "\n",
        "-   Workshops & specialized trainings\n",
        "\n",
        "-   Interdisciplinary projects that engage learners from diverse sectors\n",
        "\n",
        "-   Being a campus wide resource through Community Coding - an open work and support session."
      ],
      "id": "f24cc725"
    }
  ],
  "metadata": {
    "kernelspec": {
      "display_name": "Python 3",
      "language": "python",
      "name": "python3"
    }
  },
  "nbformat": 4,
  "nbformat_minor": 5
}